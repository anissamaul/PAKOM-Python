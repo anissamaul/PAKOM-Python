{
  "nbformat": 4,
  "nbformat_minor": 0,
  "metadata": {
    "colab": {
      "name": "No_8.ipynb",
      "provenance": []
    },
    "kernelspec": {
      "name": "python3",
      "display_name": "Python 3"
    },
    "language_info": {
      "name": "python"
    }
  },
  "cells": [
    {
      "cell_type": "code",
      "execution_count": 2,
      "metadata": {
        "colab": {
          "base_uri": "https://localhost:8080/"
        },
        "id": "NmFr5pn1LRrD",
        "outputId": "bf540c4b-b102-47c9-9a4b-5284d4a1a1e7"
      },
      "outputs": [
        {
          "output_type": "stream",
          "name": "stdout",
          "text": [
            "factorial = 4\n",
            "24\n"
          ]
        }
      ],
      "source": [
        "N = int(input('factorial = '))\n",
        "for i in range(2,N):\n",
        "  N = N*i\n",
        "print(N)"
      ]
    }
  ]
}