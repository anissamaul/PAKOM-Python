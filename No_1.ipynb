{
  "nbformat": 4,
  "nbformat_minor": 0,
  "metadata": {
    "colab": {
      "name": "No_1.ipynb",
      "provenance": [],
      "collapsed_sections": []
    },
    "kernelspec": {
      "name": "python3",
      "display_name": "Python 3"
    },
    "language_info": {
      "name": "python"
    }
  },
  "cells": [
    {
      "cell_type": "code",
      "execution_count": null,
      "metadata": {
        "colab": {
          "base_uri": "https://localhost:8080/"
        },
        "id": "kTfaedB4DwXq",
        "outputId": "ff024c74-e847-4ee7-a43c-92878e72d74f"
      },
      "outputs": [
        {
          "output_type": "execute_result",
          "data": {
            "text/plain": [
              "array([ 999, 1002, 1005, 1008, 1011, 1014, 1017, 1020, 1023, 1026, 1029,\n",
              "       1032, 1035, 1038, 1041, 1044, 1047, 1050, 1053, 1056, 1059, 1062,\n",
              "       1065, 1068, 1071, 1074, 1077, 1080, 1083, 1086, 1089, 1092, 1095,\n",
              "       1098, 1101, 1104, 1107, 1110, 1113, 1116, 1119, 1122, 1125, 1128,\n",
              "       1131, 1134, 1137, 1140, 1143, 1146, 1149, 1152, 1155, 1158, 1161,\n",
              "       1164, 1167, 1170, 1173, 1176, 1179, 1182, 1185, 1188, 1191, 1194,\n",
              "       1197, 1200, 1203, 1206, 1209, 1212, 1215, 1218, 1221, 1224, 1227,\n",
              "       1230, 1233, 1236, 1239, 1242, 1245, 1248, 1251, 1254, 1257, 1260,\n",
              "       1263, 1266, 1269, 1272, 1275, 1278, 1281, 1284, 1287, 1290, 1293])"
            ]
          },
          "metadata": {},
          "execution_count": 4
        }
      ],
      "source": [
        "import numpy as np\n",
        "a = 999\n",
        "b = 3\n",
        "n = 100\n",
        "\n",
        "U = a+(n-1)*b\n",
        "\n",
        "X = np.arange(a,U,b)\n",
        "X"
      ]
    }
  ]
}