{
  "nbformat": 4,
  "nbformat_minor": 0,
  "metadata": {
    "colab": {
      "name": "No_3.ipynb",
      "provenance": [],
      "collapsed_sections": []
    },
    "kernelspec": {
      "name": "python3",
      "display_name": "Python 3"
    },
    "language_info": {
      "name": "python"
    }
  },
  "cells": [
    {
      "cell_type": "code",
      "execution_count": null,
      "metadata": {
        "colab": {
          "base_uri": "https://localhost:8080/"
        },
        "id": "PIkvPKLWEmBY",
        "outputId": "87996935-44f9-464e-d56e-81c5ca3d2224"
      },
      "outputs": [
        {
          "output_type": "stream",
          "name": "stdout",
          "text": [
            "[[5 5 5 5 5]\n",
            " [5 0 0 0 5]\n",
            " [5 0 0 0 5]\n",
            " [5 0 0 0 5]\n",
            " [5 5 5 5 5]]\n"
          ]
        }
      ],
      "source": [
        "import numpy as np\n",
        "A = range(25)\n",
        "A = np.reshape(A,(5,5))\n",
        "A[:,0:6] = 0\n",
        "A[:,0] = 5\n",
        "A[:,4] = 5\n",
        "A[0,:] = 5\n",
        "A[4,:] = 5\n",
        "print(A)"
      ]
    }
  ]
}