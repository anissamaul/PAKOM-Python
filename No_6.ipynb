{
  "nbformat": 4,
  "nbformat_minor": 0,
  "metadata": {
    "colab": {
      "name": "No_6.ipynb",
      "provenance": [],
      "collapsed_sections": []
    },
    "kernelspec": {
      "name": "python3",
      "display_name": "Python 3"
    },
    "language_info": {
      "name": "python"
    }
  },
  "cells": [
    {
      "cell_type": "code",
      "execution_count": null,
      "metadata": {
        "colab": {
          "base_uri": "https://localhost:8080/"
        },
        "id": "NRi-uCcKIehL",
        "outputId": "ea92fd90-df35-4420-cd73-ddf8d1ed3504"
      },
      "outputs": [
        {
          "output_type": "stream",
          "name": "stdout",
          "text": [
            "a = 2\n",
            "b = 50000\n",
            "c = 20\n",
            "Anda mendapatkan discount 2,5%\n",
            "25000.0\n",
            "975000.0\n"
          ]
        }
      ],
      "source": [
        "a = int(input('a = ')) #jumlah jenis barang\n",
        "b = int(input('b = ')) #harga satuan barang yang dibeli\n",
        "c = int(input('c = ')) #jumlah barang yang dibeli\n",
        "\n",
        "total_belanja = b*c\n",
        "\n",
        "if total_belanja > 500000:\n",
        "  diskon = 0.025*total_belanja\n",
        "  total_bayar = total_belanja-diskon\n",
        "  print(\"Anda mendapatkan discount 2,5%\")\n",
        "else:\n",
        "  diskon = 0\n",
        "  total_bayar = total_belanja-diskon\n",
        "  print(\"Maaf, Anda tidak mendapatkan discount\")\n",
        "\n",
        "print(diskon)\n",
        "print(total_bayar)"
      ]
    }
  ]
}