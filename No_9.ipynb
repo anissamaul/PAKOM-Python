{
  "nbformat": 4,
  "nbformat_minor": 0,
  "metadata": {
    "colab": {
      "name": "No_9.ipynb",
      "provenance": []
    },
    "kernelspec": {
      "name": "python3",
      "display_name": "Python 3"
    },
    "language_info": {
      "name": "python"
    }
  },
  "cells": [
    {
      "cell_type": "code",
      "source": [
        "N = int(input('N = '))\n",
        "\n",
        "i = 1\n",
        "while i <= N:\n",
        "\tj = i\n",
        "\twhile j > 0:\n",
        "\t\tprint(\"*\", end = ' ')\n",
        "\t\tj = j - 1\n",
        "\t\t\n",
        "\tprint(\"\\n\",' ')\n",
        "\ti = i + 1\n",
        "print()"
      ],
      "metadata": {
        "colab": {
          "base_uri": "https://localhost:8080/"
        },
        "id": "wvx0-qcNTl8V",
        "outputId": "72b666f5-3d28-4f64-e15e-600f1ed5f9b7"
      },
      "execution_count": 5,
      "outputs": [
        {
          "output_type": "stream",
          "name": "stdout",
          "text": [
            "N = 3\n",
            "* \n",
            "  \n",
            "* * \n",
            "  \n",
            "* * * \n",
            "  \n",
            "\n"
          ]
        }
      ]
    }
  ]
}