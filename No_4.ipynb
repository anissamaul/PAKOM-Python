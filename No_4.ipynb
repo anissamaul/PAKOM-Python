{
  "nbformat": 4,
  "nbformat_minor": 0,
  "metadata": {
    "colab": {
      "name": "No_4.ipynb",
      "provenance": [],
      "collapsed_sections": []
    },
    "kernelspec": {
      "name": "python3",
      "display_name": "Python 3"
    },
    "language_info": {
      "name": "python"
    }
  },
  "cells": [
    {
      "cell_type": "code",
      "execution_count": null,
      "metadata": {
        "colab": {
          "base_uri": "https://localhost:8080/"
        },
        "id": "T7-LcC2iGTXt",
        "outputId": "e4f683e8-a92a-4f9e-8ef1-3fbdc2406277"
      },
      "outputs": [
        {
          "output_type": "stream",
          "name": "stdout",
          "text": [
            "N = 5\n",
            "a = 6\n",
            "[[6 6 6 6 6]\n",
            " [6 0 0 0 6]\n",
            " [6 0 0 0 6]\n",
            " [6 0 0 0 6]\n",
            " [6 6 6 6 6]]\n"
          ]
        }
      ],
      "source": [
        "import numpy as np\n",
        "\n",
        "N = int(input('N = '))\n",
        "A = range(N*N)\n",
        "A = np.reshape(A,(N,N))\n",
        "\n",
        "a = int(input('a = '))\n",
        "A[:,0:6] = 0\n",
        "A[:,0] = a\n",
        "A[:,4] = a\n",
        "A[0,:] = a\n",
        "A[4,:] = a\n",
        "print(A)"
      ]
    }
  ]
}