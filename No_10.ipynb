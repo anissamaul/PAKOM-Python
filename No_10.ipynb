{
  "nbformat": 4,
  "nbformat_minor": 0,
  "metadata": {
    "colab": {
      "name": "No_10.ipynb",
      "provenance": []
    },
    "kernelspec": {
      "name": "python3",
      "display_name": "Python 3"
    },
    "language_info": {
      "name": "python"
    }
  },
  "cells": [
    {
      "cell_type": "code",
      "execution_count": 1,
      "metadata": {
        "colab": {
          "base_uri": "https://localhost:8080/"
        },
        "id": "fnd4cNNgU5m_",
        "outputId": "8367abd8-44be-495c-c015-9979a788d162"
      },
      "outputs": [
        {
          "output_type": "stream",
          "name": "stdout",
          "text": [
            "x = 4\n",
            "F =  9\n",
            "F =  11\n",
            "F =  13\n",
            "F =  15\n",
            "F =  17\n",
            "F =  19\n",
            "F =  21\n",
            "F =  23\n",
            "F =  25\n",
            "F =  27\n",
            "F =  29\n",
            "F =  31\n",
            "F =  33\n",
            "F =  35\n",
            "F =  37\n",
            "F =  39\n",
            "F =  41\n",
            "F =  43\n",
            "F =  45\n",
            "F =  47\n",
            "F =  49\n",
            "F =  51\n",
            "F =  53\n",
            "F =  55\n",
            "F =  57\n",
            "F =  59\n",
            "F =  61\n",
            "F =  63\n",
            "F =  65\n",
            "F =  67\n",
            "F =  69\n",
            "F =  71\n",
            "F =  73\n",
            "F =  75\n",
            "F =  77\n",
            "F =  79\n",
            "F =  81\n",
            "F =  83\n",
            "F =  85\n",
            "F =  87\n",
            "F =  89\n",
            "F =  91\n",
            "F =  93\n",
            "F =  95\n",
            "F =  97\n",
            "F =  99\n",
            "F =  101\n",
            "F =  103\n",
            "F =  105\n",
            "F =  107\n",
            "F =  109\n",
            "F =  111\n",
            "\n"
          ]
        }
      ],
      "source": [
        "x = int(input('x = '))\n",
        "\n",
        "while x < 200:\n",
        "   F = 2*x+1\n",
        "   print('F = ', F)\n",
        "   if F >= 111:\n",
        "     break\n",
        "   x = x+1;\n",
        "print()  "
      ]
    }
  ]
}