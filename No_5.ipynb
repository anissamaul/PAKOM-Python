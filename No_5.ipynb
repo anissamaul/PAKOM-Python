{
  "nbformat": 4,
  "nbformat_minor": 0,
  "metadata": {
    "colab": {
      "name": "No_5.ipynb",
      "provenance": [],
      "collapsed_sections": []
    },
    "kernelspec": {
      "name": "python3",
      "display_name": "Python 3"
    },
    "language_info": {
      "name": "python"
    }
  },
  "cells": [
    {
      "cell_type": "code",
      "execution_count": null,
      "metadata": {
        "colab": {
          "base_uri": "https://localhost:8080/"
        },
        "id": "c7vizilZHRZB",
        "outputId": "65ae95f0-ba87-4f84-df05-7ce33e317943"
      },
      "outputs": [
        {
          "output_type": "stream",
          "name": "stdout",
          "text": [
            "x = 7\n",
            "bilangan negatif\n"
          ]
        }
      ],
      "source": [
        "x = int(input('x = '))\n",
        "\n",
        "if x < 0:\n",
        "  print(\"bilangan negatif\")\n",
        "elif x > 0:\n",
        "  print(\"bilangan negatif\")\n",
        "else:\n",
        "  print(\"bilangan samadengan nol atau netral\")"
      ]
    }
  ]
}